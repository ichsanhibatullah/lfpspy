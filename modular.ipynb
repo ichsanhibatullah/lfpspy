{
 "cells": [
  {
   "cell_type": "code",
   "execution_count": 1,
   "metadata": {},
   "outputs": [],
   "source": [
    "from lfpspy import LFPS"
   ]
  },
  {
   "cell_type": "code",
   "execution_count": 2,
   "metadata": {},
   "outputs": [],
   "source": [
    "tes = LFPS(\"C:/Users/PC-MSI/Downloads/raw_lfpspy/70_MJ_230826_17-23.mseed\", win_length=60) #, format=\"MSEED\"\n",
    "\n",
    "#preprocessing = tes.preprocessing(width=0.1, lc=0.5, hc=10, fs=100, order=5, d=0.5, overlap=True)\n",
    "spectral70 = tes.calculate()"
   ]
  },
  {
   "cell_type": "code",
   "execution_count": 3,
   "metadata": {},
   "outputs": [
    {
     "data": {
      "text/plain": [
       "8"
      ]
     },
     "execution_count": 3,
     "metadata": {},
     "output_type": "execute_result"
    }
   ],
   "source": [
    "len(spectral70)"
   ]
  },
  {
   "cell_type": "code",
   "execution_count": null,
   "metadata": {},
   "outputs": [],
   "source": [
    "# import matplotlib.pyplot as plt\n",
    "# import pandas as pd\n",
    "\n",
    "# import os\n",
    "# import time"
   ]
  }
 ],
 "metadata": {
  "kernelspec": {
   "display_name": "vhsrpy",
   "language": "python",
   "name": "python3"
  },
  "language_info": {
   "codemirror_mode": {
    "name": "ipython",
    "version": 3
   },
   "file_extension": ".py",
   "mimetype": "text/x-python",
   "name": "python",
   "nbconvert_exporter": "python",
   "pygments_lexer": "ipython3",
   "version": "3.9.0"
  }
 },
 "nbformat": 4,
 "nbformat_minor": 2
}
